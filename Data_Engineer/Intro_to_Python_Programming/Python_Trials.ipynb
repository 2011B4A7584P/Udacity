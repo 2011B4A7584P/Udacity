{
 "cells": [
  {
   "cell_type": "code",
   "execution_count": 1,
   "metadata": {},
   "outputs": [
    {
     "ename": "TypeError",
     "evalue": "unsupported operand type(s) for +: 'int' and 'str'",
     "output_type": "error",
     "traceback": [
      "\u001b[1;31m---------------------------------------------------------------------------\u001b[0m",
      "\u001b[1;31mTypeError\u001b[0m                                 Traceback (most recent call last)",
      "\u001b[1;32m<ipython-input-1-3dd32333af13>\u001b[0m in \u001b[0;36m<module>\u001b[1;34m\u001b[0m\n\u001b[1;32m----> 1\u001b[1;33m \u001b[1;36m0\u001b[0m \u001b[1;33m+\u001b[0m \u001b[1;34m\"5\"\u001b[0m\u001b[1;33m\u001b[0m\u001b[1;33m\u001b[0m\u001b[0m\n\u001b[0m",
      "\u001b[1;31mTypeError\u001b[0m: unsupported operand type(s) for +: 'int' and 'str'"
     ]
    }
   ],
   "source": [
    "0 + \"5\""
   ]
  },
  {
   "cell_type": "code",
   "execution_count": 2,
   "metadata": {},
   "outputs": [
    {
     "ename": "TypeError",
     "evalue": "can only concatenate str (not \"int\") to str",
     "output_type": "error",
     "traceback": [
      "\u001b[1;31m---------------------------------------------------------------------------\u001b[0m",
      "\u001b[1;31mTypeError\u001b[0m                                 Traceback (most recent call last)",
      "\u001b[1;32m<ipython-input-2-df430ab38990>\u001b[0m in \u001b[0;36m<module>\u001b[1;34m\u001b[0m\n\u001b[1;32m----> 1\u001b[1;33m \u001b[1;34m\"0\"\u001b[0m\u001b[1;33m+\u001b[0m \u001b[1;36m5\u001b[0m\u001b[1;33m\u001b[0m\u001b[1;33m\u001b[0m\u001b[0m\n\u001b[0m",
      "\u001b[1;31mTypeError\u001b[0m: can only concatenate str (not \"int\") to str"
     ]
    }
   ],
   "source": [
    "\"0\"+ 5"
   ]
  },
  {
   "cell_type": "code",
   "execution_count": 3,
   "metadata": {},
   "outputs": [
    {
     "data": {
      "text/plain": [
       "str"
      ]
     },
     "execution_count": 3,
     "metadata": {},
     "output_type": "execute_result"
    }
   ],
   "source": [
    "type(\"12\")"
   ]
  },
  {
   "cell_type": "code",
   "execution_count": 4,
   "metadata": {},
   "outputs": [
    {
     "name": "stdout",
     "output_type": "stream",
     "text": [
      "hippohippohippohippohippohippohippohippohippohippohippohippo\n"
     ]
    }
   ],
   "source": [
    "print(\"hippo\"*12)"
   ]
  },
  {
   "cell_type": "code",
   "execution_count": 5,
   "metadata": {},
   "outputs": [
    {
     "data": {
      "text/plain": [
       "str"
      ]
     },
     "execution_count": 5,
     "metadata": {},
     "output_type": "execute_result"
    }
   ],
   "source": [
    "type(\"hippo\"*12)"
   ]
  },
  {
   "cell_type": "code",
   "execution_count": 6,
   "metadata": {},
   "outputs": [
    {
     "name": "stdout",
     "output_type": "stream",
     "text": [
      "This week's total sales: 529\n"
     ]
    }
   ],
   "source": [
    "'''\n",
    "Calculate and print the total sales for the week from the data provided.\n",
    "Print out a string of the form \"This week's total sales: xxx\", where xxx will be the actual total of all the numbers.\n",
    "You’ll need to change the type of the input data in order to calculate that total.\n",
    "'''\n",
    " \n",
    "mon_sales = \"121\"\n",
    "tues_sales = \"105\"\n",
    "wed_sales = \"110\"\n",
    "thurs_sales = \"98\"\n",
    "fri_sales = \"95\"\n",
    "\n",
    "#TODO: Print a string with this format: This week's total sales: xxx\n",
    "# You will probably need to write some lines of code before the print statement.\n",
    "print(\"This week\\'s total sales:\"+ \" \" + str(int(mon_sales) + int(tues_sales) + \\\n",
    "                                             int(wed_sales) + int(thurs_sales) + \\\n",
    "                                            int(fri_sales)))"
   ]
  },
  {
   "cell_type": "code",
   "execution_count": 3,
   "metadata": {},
   "outputs": [
    {
     "name": "stdout",
     "output_type": "stream",
     "text": [
      "False\n"
     ]
    }
   ],
   "source": [
    "larger_list = [1,2,2,2,2,3,3,3,4]\n",
    "smaller_list = [2,2,3,3,3,3,3]\n",
    "\n",
    "def is_subset(larger_list, smaller_list):\n",
    "    for i in smaller_list:\n",
    "        if i not in larger_list or smaller_list.count(i) > larger_list.count(i):\n",
    "            return False\n",
    "    return True\n",
    "print(is_subset(larger_list, smaller_list))"
   ]
  },
  {
   "cell_type": "code",
   "execution_count": 4,
   "metadata": {},
   "outputs": [
    {
     "name": "stdout",
     "output_type": "stream",
     "text": [
      "My name is Ashish\n"
     ]
    }
   ],
   "source": [
    "name = \"Ashish\"\n",
    "print(f\"My name is {name}\")"
   ]
  },
  {
   "cell_type": "code",
   "execution_count": 5,
   "metadata": {},
   "outputs": [
    {
     "ename": "AttributeError",
     "evalue": "'float' object has no attribute 'islower'",
     "output_type": "error",
     "traceback": [
      "\u001b[1;31m---------------------------------------------------------------------------\u001b[0m",
      "\u001b[1;31mAttributeError\u001b[0m                            Traceback (most recent call last)",
      "\u001b[1;32m<ipython-input-5-157cf8c6126d>\u001b[0m in \u001b[0;36m<module>\u001b[1;34m\u001b[0m\n\u001b[1;32m----> 1\u001b[1;33m \u001b[1;36m13.37\u001b[0m\u001b[1;33m.\u001b[0m\u001b[0mislower\u001b[0m\u001b[1;33m(\u001b[0m\u001b[1;33m)\u001b[0m\u001b[1;33m\u001b[0m\u001b[1;33m\u001b[0m\u001b[0m\n\u001b[0m",
      "\u001b[1;31mAttributeError\u001b[0m: 'float' object has no attribute 'islower'"
     ]
    }
   ],
   "source": [
    "13.37.islower()"
   ]
  },
  {
   "cell_type": "code",
   "execution_count": 11,
   "metadata": {},
   "outputs": [
    {
     "data": {
      "text/plain": [
       "2"
      ]
     },
     "execution_count": 11,
     "metadata": {},
     "output_type": "execute_result"
    }
   ],
   "source": [
    "name = \"Ashish\"\n",
    "name.capitalize()\n",
    "name.count('h')"
   ]
  },
  {
   "cell_type": "code",
   "execution_count": 13,
   "metadata": {},
   "outputs": [
    {
     "name": "stdout",
     "output_type": "stream",
     "text": [
      "Mr. Dalal's family has 3 members in total and their house number is 121-A\n"
     ]
    }
   ],
   "source": [
    "# Write two lines of code below, each assigning a value to a variable\n",
    "family_members = 3\n",
    "house_number = \"121-A\"\n",
    "\n",
    "# Now write a print statement using .format() to print out a sentence and the \n",
    "# values of both of the variables\n",
    "print(f\"Mr. Dalal\\'s family has {family_members} members in total and their house number is {house_number}\")"
   ]
  },
  {
   "cell_type": "code",
   "execution_count": 21,
   "metadata": {},
   "outputs": [
    {
     "name": "stdout",
     "output_type": "stream",
     "text": [
      "If you can keep your head when all about you\n",
      "  Are losing theirs and blaming it on you,\n",
      "If you can trust yourself when all men doubt you,\n",
      "  But make allowance for their doubting too;\n",
      "If you can wait and not be tired by waiting,\n",
      "  Or being lied about, don’t deal in lies,\n",
      "Or being hated, don’t give way to hating,\n",
      "  And yet don’t look too good, nor talk too wise:\n",
      "1. The length of the string verse is :362\n",
      "2. The index of the first occurence of the word and in the string verse is :65\n",
      "3. The index of the last occurence of the word you in the string verse is :186\n",
      "4. The count of the occurences of the word you in the string verse is :8\n"
     ]
    }
   ],
   "source": [
    "verse = \"If you can keep your head when all about you\\n  Are losing theirs and blaming it on you,\\nIf you can trust yourself when all men doubt you,\\n  But make allowance for their doubting too;\\nIf you can wait and not be tired by waiting,\\n  Or being lied about, don’t deal in lies,\\nOr being hated, don’t give way to hating,\\n  And yet don’t look too good, nor talk too wise:\"\n",
    "print(verse)\n",
    "\n",
    "print(\"1. The length of the string verse is :{}\".format(len(verse)))\n",
    "print(\"2. The index of the first occurence of the word and in the string verse is :{}\".format(verse.find(\"and\")))\n",
    "print(\"3. The index of the last occurence of the word you in the string verse is :{}\".format(verse.rfind(\"you\")))\n",
    "print(\"4. The count of the occurences of the word you in the string verse is :{}\".format(verse.count(\"you\")))"
   ]
  },
  {
   "cell_type": "code",
   "execution_count": 1,
   "metadata": {},
   "outputs": [],
   "source": [
    "sentence1 = \"I wish to register a complaint.\"\n",
    "sentence2 = [\"I\", \"wish\", \"to\", \"register\", \"a\", \"complaint\", \".\"]"
   ]
  },
  {
   "cell_type": "code",
   "execution_count": 4,
   "metadata": {},
   "outputs": [
    {
     "name": "stdout",
     "output_type": "stream",
     "text": [
      "['I', 'wish', 'to', 'register', 'a', 'complaint', '!']\n"
     ]
    }
   ],
   "source": [
    "sentence2[6] = \"!\"\n",
    "print(sentence2)"
   ]
  }
 ],
 "metadata": {
  "kernelspec": {
   "display_name": "Python 3",
   "language": "python",
   "name": "python3"
  },
  "language_info": {
   "codemirror_mode": {
    "name": "ipython",
    "version": 3
   },
   "file_extension": ".py",
   "mimetype": "text/x-python",
   "name": "python",
   "nbconvert_exporter": "python",
   "pygments_lexer": "ipython3",
   "version": "3.8.5"
  }
 },
 "nbformat": 4,
 "nbformat_minor": 4
}
